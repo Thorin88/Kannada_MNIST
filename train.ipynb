{
 "cells": [
  {
   "cell_type": "markdown",
   "id": "complicated-sapphire",
   "metadata": {},
   "source": [
    "# Imports"
   ]
  },
  {
   "cell_type": "code",
   "execution_count": 4,
   "id": "expected-dependence",
   "metadata": {},
   "outputs": [],
   "source": [
    "import numpy as np\n",
    "import pandas as pd\n",
    "import matplotlib.pyplot as plt"
   ]
  },
  {
   "cell_type": "markdown",
   "id": "blond-throw",
   "metadata": {},
   "source": [
    "# Loading Data"
   ]
  },
  {
   "cell_type": "code",
   "execution_count": 5,
   "id": "attached-actor",
   "metadata": {},
   "outputs": [],
   "source": [
    "# Make this a preprocess function\n",
    "\n",
    "def load_data(filename, labels_present=True):\n",
    "\n",
    "    data = pd.read_csv(filename)\n",
    "    \n",
    "    X = data.iloc[:,1:].to_numpy().astype(\"float32\").reshape(-1,28,28)/255.0\n",
    "    print(\"Training images shape:\", X.shape)\n",
    "\n",
    "    if labels_present:\n",
    "        Y = data[\"label\"].to_numpy().astype(\"float32\").reshape(-1,)\n",
    "        print(\"Training labels shape:\", Y.shape)\n",
    "        return X, Y\n",
    "\n",
    "    else:\n",
    "        return X"
   ]
  },
  {
   "cell_type": "code",
   "execution_count": 6,
   "id": "convertible-bridal",
   "metadata": {},
   "outputs": [
    {
     "name": "stdout",
     "output_type": "stream",
     "text": [
      "Training images shape: (60000, 28, 28)\n",
      "Training labels shape: (60000,)\n"
     ]
    }
   ],
   "source": [
    "data_dir = \"./data/\"\n",
    "\n",
    "X, Y = load_data(data_dir + \"train.csv\")\n"
   ]
  },
  {
   "cell_type": "code",
   "execution_count": 7,
   "id": "ranging-compilation",
   "metadata": {},
   "outputs": [
    {
     "data": {
      "image/png": "[encoded data removed]",
      "text/plain": [
       "<Figure size 432x288 with 1 Axes>"
      ]
     },
     "metadata": {
      "needs_background": "light"
     },
     "output_type": "display_data"
    }
   ],
   "source": [
    "plt.imshow(X[5])\n",
    "plt.show()"
   ]
  },
  {
   "cell_type": "code",
   "execution_count": 8,
   "id": "greenhouse-light",
   "metadata": {},
   "outputs": [
    {
     "data": {
      "text/plain": [
       "10"
      ]
     },
     "execution_count": 8,
     "metadata": {},
     "output_type": "execute_result"
    }
   ],
   "source": [
    "len(np.unique(Y))"
   ]
  },
  {
   "cell_type": "code",
   "execution_count": 9,
   "id": "speaking-gender",
   "metadata": {},
   "outputs": [
    {
     "name": "stderr",
     "output_type": "stream",
     "text": [
      "c:\\users\\toby\\appdata\\local\\programs\\python\\python36\\lib\\site-packages\\tqdm\\auto.py:22: TqdmWarning: IProgress not found. Please update jupyter and ipywidgets. See https://ipywidgets.readthedocs.io/en/stable/user_install.html\n",
      "  from .autonotebook import tqdm as notebook_tqdm\n"
     ]
    }
   ],
   "source": [
    "import torch\n",
    "from torch import nn as nn\n",
    "from torch.utils.data import DataLoader\n",
    "from torch.utils.data import Dataset\n",
    "from torchvision import transforms\n",
    "\n",
    "from tqdm import tqdm"
   ]
  },
  {
   "cell_type": "markdown",
   "id": "occasional-sauce",
   "metadata": {},
   "source": [
    "# Helper Functions\n",
    "\n",
    "Could remove cuda's, as hard to test"
   ]
  },
  {
   "cell_type": "code",
   "execution_count": 10,
   "id": "coupled-memorabilia",
   "metadata": {},
   "outputs": [],
   "source": [
    " \n",
    "from torch.autograd import Variable\n",
    "\n",
    "def cuda(v):\n",
    "    if torch.cuda.is_available():\n",
    "        return v.cuda()\n",
    "    return v\n",
    "def toTensor(v,dtype = torch.float,requires_grad = False):       \n",
    "    return cuda(Variable(torch.tensor(v)).type(dtype).requires_grad_(requires_grad))\n",
    "def toNumpy(v):\n",
    "    if torch.cuda.is_available():\n",
    "        return v.detach().cpu().numpy()\n",
    "    return v.detach().numpy()"
   ]
  },
  {
   "cell_type": "markdown",
   "id": "compound-thompson",
   "metadata": {},
   "source": [
    "# Data Loaders"
   ]
  },
  {
   "cell_type": "code",
   "execution_count": 11,
   "id": "greek-second",
   "metadata": {},
   "outputs": [],
   "source": [
    "import random\n",
    "import sys\n",
    "\n",
    "# A dataset class that can be used by PyTorch data loaders\n",
    "class CustomDataset(Dataset):\n",
    "    \n",
    "    def __init__(self, X, Y, num_classes=1, aug_transform=None):\n",
    "\n",
    "        self.X = X\n",
    "        # Convert labels to a tensor for training\n",
    "        # self.Y = nn.functional.one_hot(toTensor(Y).long(), num_classes=num_classes)\n",
    "        self.Y = toTensor(Y).long()\n",
    "        \n",
    "        X, Y = None, None\n",
    "\n",
    "        self.xi_preprocessing_transform = transforms.Compose([\n",
    "                                            transforms.ToTensor(),\n",
    "                                          ])\n",
    "        self.yi_preprocessing_transform = None\n",
    "        self.aug_transform = aug_transform\n",
    "        if self.aug_transform is not None:\n",
    "            print(\"[WARNING]: Dataset loaded with augmentations set, make sure this is training only\")\n",
    "        \n",
    "        self.nitems = self.X.shape[0]\n",
    "        \n",
    "        self.xi = None\n",
    "        self.yi = None\n",
    "        \n",
    "    def __getitem__(self, index):\n",
    "\n",
    "        X, Y = None, None # Avoiding accidently using X and Y instead of self.X\n",
    "\n",
    "        xi = self.X[index]\n",
    "        yi = self.Y[index]\n",
    "        \n",
    "        xi_final = xi\n",
    "        yi_final = yi\n",
    "        \n",
    "        seed = random.randrange(sys.maxsize) #get a random seed so that we can reproducibly do the transformations\n",
    "\n",
    "        # First augment the data, if we have some augmentations to apply\n",
    "        if self.aug_transform is not None:\n",
    "            random.seed(seed)\n",
    "\n",
    "            trans_dict = self.aug_transform(image=xi)\n",
    "            # Apply to the images before doing standard transforms\n",
    "            xi = trans_dict[\"image\"]\n",
    "\n",
    "        # Convert examples to a tensor\n",
    "        if self.xi_preprocessing_transform is not None:\n",
    "            random.seed(seed) # apply this seed to img transforms\n",
    "            xi_final = self.xi_preprocessing_transform(xi)\n",
    "\n",
    "        return xi_final,  yi_final\n",
    "    \n",
    "    def __len__(self):\n",
    "        return self.nitems"
   ]
  },
  {
   "cell_type": "markdown",
   "id": "solar-animation",
   "metadata": {},
   "source": [
    "# Model Zoo"
   ]
  },
  {
   "cell_type": "markdown",
   "id": "functional-incentive",
   "metadata": {},
   "source": [
    "## BasicCNN"
   ]
  },
  {
   "cell_type": "code",
   "execution_count": 12,
   "id": "postal-photograph",
   "metadata": {},
   "outputs": [],
   "source": [
    "# Convolutional neural network (two convolutional layers)\n",
    "class ConvNet(nn.Module):\n",
    "  # num_classes is the number of COUNTS to return\n",
    "    def __init__(self, in_channels=1, num_classes=10):\n",
    "        super(ConvNet, self).__init__()\n",
    "\n",
    "        self.num_classes = num_classes\n",
    "\n",
    "        self.name = \"ConvNet\"\n",
    "\n",
    "        # Layer 1 variables:\n",
    "        layer1_kernel_num = 16\n",
    "        self.layer1 = nn.Sequential(\n",
    "\n",
    "            # Kernel details\n",
    "            nn.Conv2d(in_channels, layer1_kernel_num, kernel_size=5, stride=1, padding=2),\n",
    "\n",
    "            # Normalisation\n",
    "            nn.BatchNorm2d(layer1_kernel_num), # Should match output size of layer\n",
    "\n",
    "            # Activation Function (if any)\n",
    "            nn.ReLU(),\n",
    "\n",
    "            # Halves the input size\n",
    "            nn.MaxPool2d(kernel_size=2, stride=2))\n",
    "\n",
    "        # Layer 2 variables:\n",
    "        layer2_kernel_num = 32\n",
    "        self.layer2 = nn.Sequential(\n",
    "\n",
    "            nn.Conv2d(layer1_kernel_num, layer2_kernel_num, kernel_size=5, stride=1, padding=2),\n",
    "\n",
    "            nn.BatchNorm2d(layer2_kernel_num),\n",
    "\n",
    "            nn.ReLU(),\n",
    "\n",
    "            nn.MaxPool2d(kernel_size=2, stride=2))\n",
    "\n",
    "        # Try sequential here\n",
    "        self.fc1 = nn.Linear(7*7*layer2_kernel_num, num_classes)\n",
    "\n",
    "        self.output_layer = nn.Softmax(dim=1)\n",
    "\n",
    "        print(\"Model initialised.\")\n",
    "\n",
    "  # x: numpy array with shape (256,256,3)\n",
    "    def forward(self, x):\n",
    "\n",
    "        out = self.layer1(x)\n",
    "\n",
    "        out = self.layer2(out)\n",
    "\n",
    "        # Flatten output of Conv part\n",
    "        out = out.reshape(out.size(0), -1)\n",
    "\n",
    "        out = self.fc1(out)\n",
    "        out = self.output_layer(out)\n",
    "        return out\n",
    "\n",
    "# TODO - predict function\n",
    "# Should start at a raw image"
   ]
  },
  {
   "cell_type": "code",
   "execution_count": 13,
   "id": "commercial-multimedia",
   "metadata": {},
   "outputs": [],
   "source": [
    "# Code which goes through the results collected during training and plots them.\n",
    "def plotResults(trainingResults):\n",
    "\n",
    "    metrics_available = trainingResults[list(trainingResults.keys())[0]].keys()\n",
    "\n",
    "    for i, metric in enumerate(metrics_available):\n",
    "        \n",
    "        plt.figure(figsize=(10,5))\n",
    "\n",
    "        plt.title(metric + \" over the course of training\")\n",
    "        plt.xlabel(\"Epoch\")\n",
    "        plt.ylabel(metric)\n",
    "        # Values were recorded for train and validation results\n",
    "        for phase in trainingResults.keys():\n",
    "\n",
    "            epochs = len(trainingResults[phase][metric])\n",
    "            epochs_range = range(1,epochs+1)\n",
    "\n",
    "            plt.plot(epochs_range,trainingResults[phase][metric],label=phase)\n",
    "\n",
    "        plt.legend()\n",
    "        plt.show()"
   ]
  },
  {
   "cell_type": "code",
   "execution_count": 14,
   "id": "plastic-validity",
   "metadata": {},
   "outputs": [],
   "source": [
    "def count_correct(preds, labels, debug=False):\n",
    "\n",
    "    correct_count = 0.0\n",
    "    \n",
    "    predicted_labels = torch.argmax(preds, dim=1)\n",
    "    correct_count += (predicted_labels == labels).sum().item()\n",
    "    \n",
    "    if debug:\n",
    "        print(\"Predicted:\",toNumpy(predicted_labels))\n",
    "        print(\"Labels:\",toNumpy(labels))\n",
    "        print(\"Correct Count:\",correct_count)\n",
    "    \n",
    "    return correct_count"
   ]
  },
  {
   "cell_type": "code",
   "execution_count": 15,
   "id": "powerful-gibson",
   "metadata": {},
   "outputs": [],
   "source": [
    "def train(model_class,model_init_params,Xtr,Ytr,valSplitSize=0.2,batch_size=32,num_epochs=20,lr=1e-3,save=True,verbose=0):\n",
    "    \n",
    "    X, Y = None, None\n",
    "    \n",
    "    trainSize = int((1.0 - valSplitSize)*len(Xtr))\n",
    "    print(\"Train set size:\",trainSize)\n",
    "    # Validation set\n",
    "    Xv, Yv = Xtr[trainSize:], Ytr[trainSize:]\n",
    "    # Train set\n",
    "    Xtr, Ytr = Xtr[:trainSize], Ytr[:trainSize]\n",
    "\n",
    "    print(\"Training Dataset sizes:\",\"[\", Xtr.shape, Ytr.shape,\"]\")\n",
    "    print(\"Validation Dataset sizes:\",\"[\", Xv.shape, Yv.shape,\"]\")\n",
    "    \n",
    "    device = torch.device(f'cpu')\n",
    "    \n",
    "    model = model_class(**model_init_params).to(device)\n",
    "    print(\"Model Loaded:\",model.name)\n",
    "    \n",
    "    # Make datasets\n",
    "    train_dataset = CustomDataset(Xtr, Ytr, num_classes=model.num_classes)\n",
    "    val_dataset = CustomDataset(Xv, Yv, num_classes=model.num_classes)\n",
    "\n",
    "    # Make loaders\n",
    "    train_loader = DataLoader(train_dataset, batch_size=batch_size, \n",
    "                              shuffle=True, num_workers=0) \n",
    "    \n",
    "    val_loader = DataLoader(val_dataset, batch_size=batch_size, \n",
    "                              shuffle=True, num_workers=0) \n",
    "    \n",
    "    criterion = nn.CrossEntropyLoss()\n",
    "    print(\"Loss Function:\",criterion)\n",
    "    \n",
    "        # Uses our learning rate parameter\n",
    "    optimizer = torch.optim.Adam(model.parameters(), lr=lr)\n",
    "    \n",
    "    results = dict()\n",
    "    for phase in [\"training\",\"validation\"]:\n",
    "        results[phase] = {\"loss\": [], \"accuracy\": []}\n",
    "    \n",
    "    # Train the model\n",
    "    for epoch in range(num_epochs):\n",
    "        \n",
    "        results_this_epoch = dict()\n",
    "        for phase in [\"training\",\"validation\"]:\n",
    "            results_this_epoch[phase] = {\"loss\": [], \"accuracy\": []}\n",
    "        \n",
    "        # Needed since we switch to .eval() during the validation stage\n",
    "        model.train()\n",
    "        for i, (images, labels) in enumerate(tqdm(train_loader)):\n",
    "\n",
    "            images = images.to(device)\n",
    "            labels = labels.to(device)\n",
    "            # Forward pass\n",
    "            preds = model(images)\n",
    "            \n",
    "            loss = criterion(preds, labels)\n",
    "            # Backward and optimize\n",
    "            optimizer.zero_grad()\n",
    "            loss.backward()\n",
    "            optimizer.step()\n",
    "            \n",
    "            results_this_epoch[\"training\"][\"loss\"].append(loss.item())\n",
    "            results_this_epoch[\"training\"][\"accuracy\"].append(count_correct(preds, labels))\n",
    "            \n",
    "        # Validation\n",
    "        \n",
    "        # Making sure we aren't using dropouts and also aren't trainined the model\n",
    "        model.eval()\n",
    "        with torch.no_grad():\n",
    "            \n",
    "            for i, (images, labels) in enumerate(tqdm(val_loader)):\n",
    "\n",
    "                images = images.to(device)\n",
    "                labels = labels.to(device)\n",
    "                # Forward pass\n",
    "                preds = model(images)\n",
    "\n",
    "                loss = criterion(preds, labels)\n",
    "                # No update step\n",
    "\n",
    "                results_this_epoch[\"validation\"][\"loss\"].append(loss.item())\n",
    "                results_this_epoch[\"validation\"][\"accuracy\"].append(count_correct(preds, labels))\n",
    "            \n",
    "        print('Epoch [{}/{}]'.format(epoch+1, num_epochs))\n",
    "\n",
    "        for phase in results_this_epoch.keys():\n",
    "            for metric in results_this_epoch[phase].keys():\n",
    "                if metric == \"loss\":\n",
    "                    results[phase][metric].append(np.mean(results_this_epoch[phase][metric]))\n",
    "                elif metric == \"accuracy\":\n",
    "                    if phase == \"training\":\n",
    "                        total = len(Ytr)\n",
    "                    elif phase == \"validation\":\n",
    "                        total = len(Yv)\n",
    "                    results[phase][metric].append(np.sum(results_this_epoch[phase][metric])/total)\n",
    "                    \n",
    "                if (verbose > 0):\n",
    "                    print('[{}] {}: {:.4f}'.format(phase, metric, results[phase][metric][-1]))\n",
    "                    \n",
    "    plotResults(results)\n",
    "    \n",
    "    # TODO - Early stopping"
   ]
  },
  {
   "cell_type": "code",
   "execution_count": 17,
   "id": "swiss-landing",
   "metadata": {},
   "outputs": [
    {
     "name": "stdout",
     "output_type": "stream",
     "text": [
      "Train set size: 12000\n",
      "Training Dataset sizes: [ (12000, 28, 28) (12000,) ]\n",
      "Validation Dataset sizes: [ (3000, 28, 28) (3000,) ]\n",
      "Model initialised.\n",
      "Model Loaded: ConvNet\n",
      "Loss Function: CrossEntropyLoss()\n"
     ]
    },
    {
     "name": "stderr",
     "output_type": "stream",
     "text": [
      "100%|██████████| 94/94 [00:26<00:00,  3.48it/s]\n",
      "100%|██████████| 24/24 [00:02<00:00,  9.51it/s]\n"
     ]
    },
    {
     "name": "stdout",
     "output_type": "stream",
     "text": [
      "Epoch [1/10]\n",
      "[training] loss: 1.6093\n",
      "[training] accuracy: 0.8915\n",
      "[validation] loss: 1.5484\n",
      "[validation] accuracy: 0.9370\n"
     ]
    },
    {
     "name": "stderr",
     "output_type": "stream",
     "text": [
      "100%|██████████| 94/94 [00:27<00:00,  3.36it/s]\n",
      "100%|██████████| 24/24 [00:02<00:00,  9.76it/s]\n"
     ]
    },
    {
     "name": "stdout",
     "output_type": "stream",
     "text": [
      "Epoch [2/10]\n",
      "[training] loss: 1.4927\n",
      "[training] accuracy: 0.9779\n",
      "[validation] loss: 1.5264\n",
      "[validation] accuracy: 0.9520\n"
     ]
    },
    {
     "name": "stderr",
     "output_type": "stream",
     "text": [
      "100%|██████████| 94/94 [00:28<00:00,  3.34it/s]\n",
      "100%|██████████| 24/24 [00:02<00:00,  9.59it/s]\n"
     ]
    },
    {
     "name": "stdout",
     "output_type": "stream",
     "text": [
      "Epoch [3/10]\n",
      "[training] loss: 1.4811\n",
      "[training] accuracy: 0.9852\n",
      "[validation] loss: 1.5128\n",
      "[validation] accuracy: 0.9590\n"
     ]
    },
    {
     "name": "stderr",
     "output_type": "stream",
     "text": [
      "100%|██████████| 94/94 [00:27<00:00,  3.36it/s]\n",
      "100%|██████████| 24/24 [00:02<00:00,  9.10it/s]\n"
     ]
    },
    {
     "name": "stdout",
     "output_type": "stream",
     "text": [
      "Epoch [4/10]\n",
      "[training] loss: 1.4754\n",
      "[training] accuracy: 0.9894\n",
      "[validation] loss: 1.5031\n",
      "[validation] accuracy: 0.9670\n"
     ]
    },
    {
     "name": "stderr",
     "output_type": "stream",
     "text": [
      "100%|██████████| 94/94 [00:27<00:00,  3.38it/s]\n",
      "100%|██████████| 24/24 [00:02<00:00,  9.65it/s]\n"
     ]
    },
    {
     "name": "stdout",
     "output_type": "stream",
     "text": [
      "Epoch [5/10]\n",
      "[training] loss: 1.4737\n",
      "[training] accuracy: 0.9904\n",
      "[validation] loss: 1.5031\n",
      "[validation] accuracy: 0.9680\n"
     ]
    },
    {
     "name": "stderr",
     "output_type": "stream",
     "text": [
      "100%|██████████| 94/94 [00:28<00:00,  3.35it/s]\n",
      "100%|██████████| 24/24 [00:02<00:00,  9.60it/s]\n"
     ]
    },
    {
     "name": "stdout",
     "output_type": "stream",
     "text": [
      "Epoch [6/10]\n",
      "[training] loss: 1.4711\n",
      "[training] accuracy: 0.9921\n",
      "[validation] loss: 1.4970\n",
      "[validation] accuracy: 0.9687\n"
     ]
    },
    {
     "name": "stderr",
     "output_type": "stream",
     "text": [
      "100%|██████████| 94/94 [00:27<00:00,  3.42it/s]\n",
      "100%|██████████| 24/24 [00:02<00:00,  9.55it/s]\n"
     ]
    },
    {
     "name": "stdout",
     "output_type": "stream",
     "text": [
      "Epoch [7/10]\n",
      "[training] loss: 1.4694\n",
      "[training] accuracy: 0.9935\n",
      "[validation] loss: 1.4944\n",
      "[validation] accuracy: 0.9743\n"
     ]
    },
    {
     "name": "stderr",
     "output_type": "stream",
     "text": [
      "100%|██████████| 94/94 [00:27<00:00,  3.43it/s]\n",
      "100%|██████████| 24/24 [00:02<00:00,  8.54it/s]\n"
     ]
    },
    {
     "name": "stdout",
     "output_type": "stream",
     "text": [
      "Epoch [8/10]\n",
      "[training] loss: 1.4681\n",
      "[training] accuracy: 0.9947\n",
      "[validation] loss: 1.4857\n",
      "[validation] accuracy: 0.9813\n"
     ]
    },
    {
     "name": "stderr",
     "output_type": "stream",
     "text": [
      "100%|██████████| 94/94 [00:27<00:00,  3.37it/s]\n",
      "100%|██████████| 24/24 [00:02<00:00,  9.71it/s]\n"
     ]
    },
    {
     "name": "stdout",
     "output_type": "stream",
     "text": [
      "Epoch [9/10]\n",
      "[training] loss: 1.4672\n",
      "[training] accuracy: 0.9950\n",
      "[validation] loss: 1.4910\n",
      "[validation] accuracy: 0.9753\n"
     ]
    },
    {
     "name": "stderr",
     "output_type": "stream",
     "text": [
      "100%|██████████| 94/94 [00:28<00:00,  3.35it/s]\n",
      "100%|██████████| 24/24 [00:02<00:00,  9.36it/s]\n"
     ]
    },
    {
     "name": "stdout",
     "output_type": "stream",
     "text": [
      "Epoch [10/10]\n",
      "[training] loss: 1.4665\n",
      "[training] accuracy: 0.9958\n",
      "[validation] loss: 1.4911\n",
      "[validation] accuracy: 0.9733\n"
     ]
    },
    {
     "data": {
      "image/png": "[encoded data removed]",
      "text/plain": [
       "<Figure size 720x360 with 1 Axes>"
      ]
     },
     "metadata": {
      "needs_background": "light"
     },
     "output_type": "display_data"
    },
    {
     "data": {
      "image/png": "[encoded data removed]",
      "text/plain": [
       "<Figure size 720x360 with 1 Axes>"
      ]
     },
     "metadata": {
      "needs_background": "light"
     },
     "output_type": "display_data"
    }
   ],
   "source": [
    "train(ConvNet,{},X[:15000],Y[:15000],verbose=1,num_epochs=10, batch_size=128)"
   ]
  },
  {
   "cell_type": "code",
   "execution_count": null,
   "id": "careful-cornell",
   "metadata": {},
   "outputs": [],
   "source": []
  },
  {
   "cell_type": "code",
   "execution_count": 14,
   "id": "comparable-birth",
   "metadata": {},
   "outputs": [
    {
     "data": {
      "text/plain": [
       "2.0"
      ]
     },
     "execution_count": 14,
     "metadata": {},
     "output_type": "execute_result"
    }
   ],
   "source": [
    "test_labels = torch.tensor([0,2,1])\n",
    "test_preds = torch.tensor([[0.4,0.5,0.2],\n",
    "                          [0.2,0.4,0.5],\n",
    "                          [0.2,0.6,0.5]])\n",
    "\n",
    "count_correct(test_preds, test_labels)"
   ]
  }
 ],
 "metadata": {
  "kernelspec": {
   "display_name": "Python 3",
   "language": "python",
   "name": "python3"
  },
  "language_info": {
   "codemirror_mode": {
    "name": "ipython",
    "version": 3
   },
   "file_extension": ".py",
   "mimetype": "text/x-python",
   "name": "python",
   "nbconvert_exporter": "python",
   "pygments_lexer": "ipython3",
   "version": "3.6.8"
  }
 },
 "nbformat": 4,
 "nbformat_minor": 5
}
