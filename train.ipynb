{
 "cells": [
  {
   "cell_type": "markdown",
   "id": "complicated-sapphire",
   "metadata": {},
   "source": [
    "# Imports"
   ]
  },
  {
   "cell_type": "code",
   "execution_count": 1,
   "id": "expected-dependence",
   "metadata": {},
   "outputs": [],
   "source": [
    "import numpy as np\n",
    "import pandas as pd\n",
    "import matplotlib.pyplot as plt"
   ]
  },
  {
   "cell_type": "markdown",
   "id": "blond-throw",
   "metadata": {},
   "source": [
    "# Loading Data"
   ]
  },
  {
   "cell_type": "code",
   "execution_count": 2,
   "id": "attached-actor",
   "metadata": {},
   "outputs": [],
   "source": [
    "# Make this a preprocess function\n",
    "\n",
    "def load_data(filename, labels_present=True):\n",
    "\n",
    "    data = pd.read_csv(filename)\n",
    "    \n",
    "    # TODO - Currently misses first column if uses on data without label column\n",
    "\n",
    "    if labels_present:\n",
    "        \n",
    "        X = data.iloc[:,1:].to_numpy().astype(\"float32\").reshape(-1,28,28)/255.0\n",
    "        print(\"Training images shape:\", X.shape)\n",
    "        \n",
    "        Y = data[\"label\"].to_numpy().astype(\"float32\").reshape(-1,)\n",
    "        print(\"Training labels shape:\", Y.shape)\n",
    "        \n",
    "        return X, Y\n",
    "    \n",
    "    else:\n",
    "        \n",
    "        X = data.iloc[:,1:].to_numpy().astype(\"float32\").reshape(-1,28,28)/255.0\n",
    "        print(\"Training images shape:\", X.shape)\n",
    "        \n",
    "        ids = data[\"id\"].to_numpy().astype(\"int\").reshape(-1,)\n",
    "        print(\"IDs shape:\", ids.shape)\n",
    "        \n",
    "        return X, ids"
   ]
  },
  {
   "cell_type": "code",
   "execution_count": 3,
   "id": "convertible-bridal",
   "metadata": {},
   "outputs": [
    {
     "name": "stdout",
     "output_type": "stream",
     "text": [
      "Training images shape: (60000, 28, 28)\n",
      "Training labels shape: (60000,)\n"
     ]
    }
   ],
   "source": [
    "data_dir = \"./data/\"\n",
    "\n",
    "X, Y = load_data(data_dir + \"train.csv\")\n"
   ]
  },
  {
   "cell_type": "code",
   "execution_count": 4,
   "id": "ranging-compilation",
   "metadata": {},
   "outputs": [
    {
     "data": {
      "image/png": "[encoded data removed]",
      "text/plain": [
       "<Figure size 432x288 with 1 Axes>"
      ]
     },
     "metadata": {
      "needs_background": "light"
     },
     "output_type": "display_data"
    }
   ],
   "source": [
    "plt.imshow(X[5])\n",
    "plt.show()"
   ]
  },
  {
   "cell_type": "code",
   "execution_count": 5,
   "id": "greenhouse-light",
   "metadata": {},
   "outputs": [
    {
     "data": {
      "text/plain": [
       "10"
      ]
     },
     "execution_count": 5,
     "metadata": {},
     "output_type": "execute_result"
    }
   ],
   "source": [
    "len(np.unique(Y))"
   ]
  },
  {
   "cell_type": "code",
   "execution_count": 6,
   "id": "speaking-gender",
   "metadata": {},
   "outputs": [
    {
     "name": "stderr",
     "output_type": "stream",
     "text": [
      "c:\\users\\toby\\appdata\\local\\programs\\python\\python36\\lib\\site-packages\\tqdm\\auto.py:22: TqdmWarning: IProgress not found. Please update jupyter and ipywidgets. See https://ipywidgets.readthedocs.io/en/stable/user_install.html\n",
      "  from .autonotebook import tqdm as notebook_tqdm\n"
     ]
    }
   ],
   "source": [
    "import torch\n",
    "from torch import nn as nn\n",
    "from torch.utils.data import DataLoader\n",
    "from torch.utils.data import Dataset\n",
    "from torchvision import transforms\n",
    "\n",
    "from tqdm import tqdm"
   ]
  },
  {
   "cell_type": "markdown",
   "id": "occasional-sauce",
   "metadata": {},
   "source": [
    "# Helper Functions\n",
    "\n",
    "Could remove cuda's, as hard to test"
   ]
  },
  {
   "cell_type": "code",
   "execution_count": 7,
   "id": "coupled-memorabilia",
   "metadata": {},
   "outputs": [],
   "source": [
    " \n",
    "from torch.autograd import Variable\n",
    "\n",
    "def cuda(v):\n",
    "    if torch.cuda.is_available():\n",
    "        return v.cuda()\n",
    "    return v\n",
    "def toTensor(v,dtype = torch.float,requires_grad = False):       \n",
    "    return cuda(Variable(torch.tensor(v)).type(dtype).requires_grad_(requires_grad))\n",
    "def toNumpy(v):\n",
    "    if torch.cuda.is_available():\n",
    "        return v.detach().cpu().numpy()\n",
    "    return v.detach().numpy()"
   ]
  },
  {
   "cell_type": "markdown",
   "id": "compound-thompson",
   "metadata": {},
   "source": [
    "# Data Loaders"
   ]
  },
  {
   "cell_type": "code",
   "execution_count": 8,
   "id": "greek-second",
   "metadata": {},
   "outputs": [],
   "source": [
    "import random\n",
    "import sys\n",
    "\n",
    "# A dataset class that can be used by PyTorch data loaders\n",
    "class CustomDataset(Dataset):\n",
    "    \n",
    "    def __init__(self, X, Y, num_classes=1, aug_transform=None):\n",
    "\n",
    "        self.X = X\n",
    "        # Convert labels to a tensor for training\n",
    "        # self.Y = nn.functional.one_hot(toTensor(Y).long(), num_classes=num_classes)\n",
    "        self.Y = toTensor(Y).long()\n",
    "        \n",
    "        X, Y = None, None\n",
    "\n",
    "        self.xi_preprocessing_transform = transforms.Compose([\n",
    "                                            transforms.ToTensor(),\n",
    "                                          ])\n",
    "        self.yi_preprocessing_transform = None\n",
    "        self.aug_transform = aug_transform\n",
    "        if self.aug_transform is not None:\n",
    "            print(\"[WARNING]: Dataset loaded with augmentations set, make sure this is training only\")\n",
    "        \n",
    "        self.nitems = self.X.shape[0]\n",
    "        \n",
    "        self.xi = None\n",
    "        self.yi = None\n",
    "        \n",
    "    def __getitem__(self, index):\n",
    "\n",
    "        X, Y = None, None # Avoiding accidently using X and Y instead of self.X\n",
    "\n",
    "        xi = self.X[index]\n",
    "        yi = self.Y[index]\n",
    "        \n",
    "        xi_final = xi\n",
    "        yi_final = yi\n",
    "        \n",
    "        seed = random.randrange(sys.maxsize) #get a random seed so that we can reproducibly do the transformations\n",
    "\n",
    "        # First augment the data, if we have some augmentations to apply\n",
    "        if self.aug_transform is not None:\n",
    "            random.seed(seed)\n",
    "\n",
    "            trans_dict = self.aug_transform(image=xi)\n",
    "            # Apply to the images before doing standard transforms\n",
    "            xi = trans_dict[\"image\"]\n",
    "\n",
    "        # Convert examples to a tensor\n",
    "        if self.xi_preprocessing_transform is not None:\n",
    "            random.seed(seed) # apply this seed to img transforms\n",
    "            xi_final = self.xi_preprocessing_transform(xi)\n",
    "\n",
    "        return xi_final,  yi_final\n",
    "    \n",
    "    def __len__(self):\n",
    "        return self.nitems"
   ]
  },
  {
   "cell_type": "markdown",
   "id": "solar-animation",
   "metadata": {},
   "source": [
    "# Model Zoo"
   ]
  },
  {
   "cell_type": "markdown",
   "id": "functional-incentive",
   "metadata": {},
   "source": [
    "## BasicCNN"
   ]
  },
  {
   "cell_type": "code",
   "execution_count": 9,
   "id": "postal-photograph",
   "metadata": {},
   "outputs": [],
   "source": [
    "# Convolutional neural network (two convolutional layers)\n",
    "class ConvNet(nn.Module):\n",
    "    # num_classes is the number of COUNTS to return\n",
    "    def __init__(self, in_channels=1, num_classes=10):\n",
    "        super(ConvNet, self).__init__()\n",
    "\n",
    "        self.num_classes = num_classes\n",
    "\n",
    "        self.name = \"ConvNet\"\n",
    "\n",
    "        # Layer 1 variables:\n",
    "        layer1_kernel_num = 16\n",
    "        self.layer1 = nn.Sequential(\n",
    "\n",
    "            # Kernel details\n",
    "            nn.Conv2d(in_channels, layer1_kernel_num, kernel_size=5, stride=1, padding=2),\n",
    "\n",
    "            # Normalisation\n",
    "            nn.BatchNorm2d(layer1_kernel_num), # Should match output size of layer\n",
    "\n",
    "            # Activation Function (if any)\n",
    "            nn.ReLU(),\n",
    "\n",
    "            # Halves the input size\n",
    "            nn.MaxPool2d(kernel_size=2, stride=2))\n",
    "\n",
    "        # Layer 2 variables:\n",
    "        layer2_kernel_num = 32\n",
    "        self.layer2 = nn.Sequential(\n",
    "\n",
    "            nn.Conv2d(layer1_kernel_num, layer2_kernel_num, kernel_size=5, stride=1, padding=2),\n",
    "\n",
    "            nn.BatchNorm2d(layer2_kernel_num),\n",
    "\n",
    "            nn.ReLU(),\n",
    "\n",
    "            nn.MaxPool2d(kernel_size=2, stride=2))\n",
    "\n",
    "        # Try sequential here\n",
    "        self.fc1 = nn.Linear(7*7*layer2_kernel_num, num_classes)\n",
    "\n",
    "        self.output_layer = nn.Softmax(dim=1)\n",
    "\n",
    "        print(\"Model initialised.\")\n",
    "\n",
    "    # x: numpy array with shape (256,256,3)\n",
    "    def forward(self, x):\n",
    "\n",
    "        out = self.layer1(x)\n",
    "\n",
    "        out = self.layer2(out)\n",
    "\n",
    "        # Flatten output of Conv part\n",
    "        out = out.reshape(out.size(0), -1)\n",
    "\n",
    "        out = self.fc1(out)\n",
    "        out = self.output_layer(out)\n",
    "        return out\n",
    "        \n",
    "\n",
    "# TODO - predict function\n",
    "# Should start at a raw image"
   ]
  },
  {
   "cell_type": "code",
   "execution_count": 10,
   "id": "commercial-multimedia",
   "metadata": {},
   "outputs": [],
   "source": [
    "# Code which goes through the results collected during training and plots them.\n",
    "def plotResults(trainingResults):\n",
    "\n",
    "    metrics_available = trainingResults[list(trainingResults.keys())[0]].keys()\n",
    "\n",
    "    for i, metric in enumerate(metrics_available):\n",
    "        \n",
    "        plt.figure(figsize=(10,5))\n",
    "\n",
    "        plt.title(metric + \" over the course of training\")\n",
    "        plt.xlabel(\"Epoch\")\n",
    "        plt.ylabel(metric)\n",
    "        # Values were recorded for train and validation results\n",
    "        for phase in trainingResults.keys():\n",
    "\n",
    "            epochs = len(trainingResults[phase][metric])\n",
    "            epochs_range = range(1,epochs+1)\n",
    "\n",
    "            plt.plot(epochs_range,trainingResults[phase][metric],label=phase)\n",
    "\n",
    "        plt.legend()\n",
    "        plt.show()"
   ]
  },
  {
   "cell_type": "code",
   "execution_count": 11,
   "id": "plastic-validity",
   "metadata": {},
   "outputs": [],
   "source": [
    "def count_correct(preds, labels, debug=False):\n",
    "\n",
    "    correct_count = 0.0\n",
    "    \n",
    "    predicted_labels = torch.argmax(preds, dim=1)\n",
    "    correct_count += (predicted_labels == labels).sum().item()\n",
    "    \n",
    "    if debug:\n",
    "        print(\"Predicted:\",toNumpy(predicted_labels))\n",
    "        print(\"Labels:\",toNumpy(labels))\n",
    "        print(\"Correct Count:\",correct_count)\n",
    "    \n",
    "    return correct_count"
   ]
  },
  {
   "cell_type": "code",
   "execution_count": 12,
   "id": "powerful-gibson",
   "metadata": {},
   "outputs": [],
   "source": [
    "def train(model_class,model_init_params,Xtr,Ytr,valSplitSize=0.2,batch_size=32,num_epochs=20,lr=1e-3,save=True,verbose=0):\n",
    "    \n",
    "    X, Y = None, None\n",
    "    \n",
    "    trainSize = int((1.0 - valSplitSize)*len(Xtr))\n",
    "    print(\"Train set size:\",trainSize)\n",
    "    # Validation set\n",
    "    Xv, Yv = Xtr[trainSize:], Ytr[trainSize:]\n",
    "    # Train set\n",
    "    Xtr, Ytr = Xtr[:trainSize], Ytr[:trainSize]\n",
    "\n",
    "    print(\"Training Dataset sizes:\",\"[\", Xtr.shape, Ytr.shape,\"]\")\n",
    "    print(\"Validation Dataset sizes:\",\"[\", Xv.shape, Yv.shape,\"]\")\n",
    "    \n",
    "    device = torch.device(f'cpu')\n",
    "    \n",
    "    model = model_class(**model_init_params).to(device)\n",
    "    print(\"Model Loaded:\",model.name)\n",
    "    \n",
    "    # Make datasets\n",
    "    train_dataset = CustomDataset(Xtr, Ytr, num_classes=model.num_classes)\n",
    "    val_dataset = CustomDataset(Xv, Yv, num_classes=model.num_classes)\n",
    "\n",
    "    # Make loaders\n",
    "    train_loader = DataLoader(train_dataset, batch_size=batch_size, \n",
    "                              shuffle=True, num_workers=0) \n",
    "    \n",
    "    val_loader = DataLoader(val_dataset, batch_size=batch_size, \n",
    "                              shuffle=True, num_workers=0) \n",
    "    \n",
    "    criterion = nn.CrossEntropyLoss()\n",
    "    print(\"Loss Function:\",criterion)\n",
    "    \n",
    "        # Uses our learning rate parameter\n",
    "    optimizer = torch.optim.Adam(model.parameters(), lr=lr)\n",
    "    \n",
    "    results = dict()\n",
    "    for phase in [\"training\",\"validation\"]:\n",
    "        results[phase] = {\"loss\": [], \"accuracy\": []}\n",
    "    \n",
    "    lowestValidationAcc = np.NINF\n",
    "    \n",
    "    # Train the model\n",
    "    for epoch in range(num_epochs):\n",
    "        \n",
    "        results_this_epoch = dict()\n",
    "        for phase in [\"training\",\"validation\"]:\n",
    "            results_this_epoch[phase] = {\"loss\": [], \"accuracy\": []}\n",
    "        \n",
    "        # Needed since we switch to .eval() during the validation stage\n",
    "        model.train()\n",
    "        for i, (images, labels) in enumerate(tqdm(train_loader)):\n",
    "\n",
    "            images = images.to(device)\n",
    "            labels = labels.to(device)\n",
    "            # Forward pass\n",
    "            preds = model(images)\n",
    "            \n",
    "            loss = criterion(preds, labels)\n",
    "            # Backward and optimize\n",
    "            optimizer.zero_grad()\n",
    "            loss.backward()\n",
    "            optimizer.step()\n",
    "            \n",
    "            results_this_epoch[\"training\"][\"loss\"].append(loss.item())\n",
    "            results_this_epoch[\"training\"][\"accuracy\"].append(count_correct(preds, labels))\n",
    "            \n",
    "        # Validation\n",
    "        \n",
    "        # Making sure we aren't using dropouts and also aren't trainined the model\n",
    "        model.eval()\n",
    "        with torch.no_grad():\n",
    "            \n",
    "            for i, (images, labels) in enumerate(tqdm(val_loader)):\n",
    "\n",
    "                images = images.to(device)\n",
    "                labels = labels.to(device)\n",
    "                # Forward pass\n",
    "                preds = model(images)\n",
    "\n",
    "                loss = criterion(preds, labels)\n",
    "                # No update step\n",
    "\n",
    "                results_this_epoch[\"validation\"][\"loss\"].append(loss.item())\n",
    "                results_this_epoch[\"validation\"][\"accuracy\"].append(count_correct(preds, labels))\n",
    "            \n",
    "        print('Epoch [{}/{}]'.format(epoch+1, num_epochs))\n",
    "\n",
    "        for phase in results_this_epoch.keys():\n",
    "            for metric in results_this_epoch[phase].keys():\n",
    "                if metric == \"loss\":\n",
    "                    results[phase][metric].append(np.mean(results_this_epoch[phase][metric]))\n",
    "                elif metric == \"accuracy\":\n",
    "                    if phase == \"training\":\n",
    "                        total = len(Ytr)\n",
    "                    elif phase == \"validation\":\n",
    "                        total = len(Yv)\n",
    "                    results[phase][metric].append(np.sum(results_this_epoch[phase][metric])/total)\n",
    "                    \n",
    "                if (verbose > 0):\n",
    "                    print('[{}] {}: {:.4f}'.format(phase, metric, results[phase][metric][-1]))\n",
    "                \n",
    "        # Early stopping, preventing overfitting when using too many epochs        \n",
    "        if results[\"validation\"][\"accuracy\"][-1] > lowestValidationAcc:\n",
    "            lowestValidationAcc = results[\"validation\"][\"accuracy\"][-1]\n",
    "            if verbose > 0:\n",
    "                print(\"  **\")\n",
    "            state = {'epoch': epoch + 1,\n",
    "                     'model_dict': model.state_dict(),\n",
    "                     'params': model_init_params,\n",
    "                     'best_loss_on_test': lowestValidationAcc}\n",
    "\n",
    "            modelLocation = model.name + \"_best_model.pth\"\n",
    "            torch.save(state, modelLocation) # saves to current directory\n",
    "            if verbose > 0:\n",
    "                  print(\"Model information (including weights) saved to:\",modelLocation)\n",
    "                    \n",
    "    plotResults(results)\n",
    "    \n",
    "    return model\n"
   ]
  },
  {
   "cell_type": "code",
   "execution_count": 13,
   "id": "swiss-landing",
   "metadata": {},
   "outputs": [
    {
     "name": "stdout",
     "output_type": "stream",
     "text": [
      "Train set size: 1600\n",
      "Training Dataset sizes: [ (1600, 28, 28) (1600,) ]\n",
      "Validation Dataset sizes: [ (400, 28, 28) (400,) ]\n",
      "Model initialised.\n",
      "Model Loaded: ConvNet\n",
      "Loss Function: CrossEntropyLoss()\n"
     ]
    },
    {
     "name": "stderr",
     "output_type": "stream",
     "text": [
      "100%|██████████| 13/13 [00:03<00:00,  3.43it/s]\n",
      "100%|██████████| 4/4 [00:00<00:00, 11.59it/s]\n"
     ]
    },
    {
     "name": "stdout",
     "output_type": "stream",
     "text": [
      "Epoch [1/10]\n",
      "[training] loss: 1.9757\n",
      "[training] accuracy: 0.5606\n",
      "[validation] loss: 2.1932\n",
      "[validation] accuracy: 0.7175\n",
      "  **\n",
      "Model information (including weights) saved to: ConvNet_best_model.pth\n"
     ]
    },
    {
     "name": "stderr",
     "output_type": "stream",
     "text": [
      "100%|██████████| 13/13 [00:03<00:00,  3.62it/s]\n",
      "100%|██████████| 4/4 [00:00<00:00, 11.75it/s]\n"
     ]
    },
    {
     "name": "stdout",
     "output_type": "stream",
     "text": [
      "Epoch [2/10]\n",
      "[training] loss: 1.5885\n",
      "[training] accuracy: 0.9331\n",
      "[validation] loss: 1.7941\n",
      "[validation] accuracy: 0.8525\n",
      "  **\n",
      "Model information (including weights) saved to: ConvNet_best_model.pth\n"
     ]
    },
    {
     "name": "stderr",
     "output_type": "stream",
     "text": [
      "100%|██████████| 13/13 [00:03<00:00,  3.54it/s]\n",
      "100%|██████████| 4/4 [00:00<00:00, 10.85it/s]\n"
     ]
    },
    {
     "name": "stdout",
     "output_type": "stream",
     "text": [
      "Epoch [3/10]\n",
      "[training] loss: 1.5160\n",
      "[training] accuracy: 0.9663\n",
      "[validation] loss: 1.6398\n",
      "[validation] accuracy: 0.8700\n",
      "  **\n",
      "Model information (including weights) saved to: ConvNet_best_model.pth\n"
     ]
    },
    {
     "name": "stderr",
     "output_type": "stream",
     "text": [
      "100%|██████████| 13/13 [00:03<00:00,  3.54it/s]\n",
      "100%|██████████| 4/4 [00:00<00:00, 11.62it/s]\n"
     ]
    },
    {
     "name": "stdout",
     "output_type": "stream",
     "text": [
      "Epoch [4/10]\n",
      "[training] loss: 1.5000\n",
      "[training] accuracy: 0.9700\n",
      "[validation] loss: 1.6308\n",
      "[validation] accuracy: 0.8850\n",
      "  **\n",
      "Model information (including weights) saved to: ConvNet_best_model.pth\n"
     ]
    },
    {
     "name": "stderr",
     "output_type": "stream",
     "text": [
      "100%|██████████| 13/13 [00:03<00:00,  3.53it/s]\n",
      "100%|██████████| 4/4 [00:00<00:00, 10.61it/s]\n"
     ]
    },
    {
     "name": "stdout",
     "output_type": "stream",
     "text": [
      "Epoch [5/10]\n",
      "[training] loss: 1.4941\n",
      "[training] accuracy: 0.9738\n",
      "[validation] loss: 1.5983\n",
      "[validation] accuracy: 0.8900\n",
      "  **\n",
      "Model information (including weights) saved to: ConvNet_best_model.pth\n"
     ]
    },
    {
     "name": "stderr",
     "output_type": "stream",
     "text": [
      "100%|██████████| 13/13 [00:03<00:00,  3.31it/s]\n",
      "100%|██████████| 4/4 [00:00<00:00, 11.28it/s]\n"
     ]
    },
    {
     "name": "stdout",
     "output_type": "stream",
     "text": [
      "Epoch [6/10]\n",
      "[training] loss: 1.4892\n",
      "[training] accuracy: 0.9794\n",
      "[validation] loss: 1.6081\n",
      "[validation] accuracy: 0.8875\n"
     ]
    },
    {
     "name": "stderr",
     "output_type": "stream",
     "text": [
      "100%|██████████| 13/13 [00:04<00:00,  3.24it/s]\n",
      "100%|██████████| 4/4 [00:00<00:00,  9.93it/s]\n"
     ]
    },
    {
     "name": "stdout",
     "output_type": "stream",
     "text": [
      "Epoch [7/10]\n",
      "[training] loss: 1.4866\n",
      "[training] accuracy: 0.9825\n",
      "[validation] loss: 1.5468\n",
      "[validation] accuracy: 0.9025\n",
      "  **\n",
      "Model information (including weights) saved to: ConvNet_best_model.pth\n"
     ]
    },
    {
     "name": "stderr",
     "output_type": "stream",
     "text": [
      "100%|██████████| 13/13 [00:04<00:00,  2.92it/s]\n",
      "100%|██████████| 4/4 [00:00<00:00, 10.53it/s]\n"
     ]
    },
    {
     "name": "stdout",
     "output_type": "stream",
     "text": [
      "Epoch [8/10]\n",
      "[training] loss: 1.4813\n",
      "[training] accuracy: 0.9850\n",
      "[validation] loss: 1.5551\n",
      "[validation] accuracy: 0.9050\n",
      "  **\n",
      "Model information (including weights) saved to: ConvNet_best_model.pth\n"
     ]
    },
    {
     "name": "stderr",
     "output_type": "stream",
     "text": [
      "100%|██████████| 13/13 [00:03<00:00,  3.39it/s]\n",
      "100%|██████████| 4/4 [00:00<00:00,  9.46it/s]\n"
     ]
    },
    {
     "name": "stdout",
     "output_type": "stream",
     "text": [
      "Epoch [9/10]\n",
      "[training] loss: 1.4798\n",
      "[training] accuracy: 0.9856\n",
      "[validation] loss: 1.5551\n",
      "[validation] accuracy: 0.9100\n",
      "  **\n",
      "Model information (including weights) saved to: ConvNet_best_model.pth\n"
     ]
    },
    {
     "name": "stderr",
     "output_type": "stream",
     "text": [
      "100%|██████████| 13/13 [00:04<00:00,  3.02it/s]\n",
      "100%|██████████| 4/4 [00:00<00:00, 10.77it/s]\n"
     ]
    },
    {
     "name": "stdout",
     "output_type": "stream",
     "text": [
      "Epoch [10/10]\n",
      "[training] loss: 1.4772\n",
      "[training] accuracy: 0.9869\n",
      "[validation] loss: 1.5373\n",
      "[validation] accuracy: 0.9100\n"
     ]
    },
    {
     "data": {
      "image/png": "[encoded data removed]",
      "text/plain": [
       "<Figure size 720x360 with 1 Axes>"
      ]
     },
     "metadata": {
      "needs_background": "light"
     },
     "output_type": "display_data"
    },
    {
     "data": {
      "image/png": "[encoded data removed]",
      "text/plain": [
       "<Figure size 720x360 with 1 Axes>"
      ]
     },
     "metadata": {
      "needs_background": "light"
     },
     "output_type": "display_data"
    }
   ],
   "source": [
    "trained_model = train(ConvNet,{},X[:2000],Y[:2000],verbose=1,num_epochs=10, batch_size=128)"
   ]
  },
  {
   "cell_type": "code",
   "execution_count": 18,
   "id": "theoretical-hampshire",
   "metadata": {},
   "outputs": [],
   "source": [
    "def infer_raw(filename, model):\n",
    "    \n",
    "    device = torch.device(f'cpu')\n",
    "\n",
    "    X, ids = load_data(filename, labels_present=False)\n",
    "    \n",
    "    for i in range(5):\n",
    "        plt.imshow(X[i])\n",
    "        plt.show()\n",
    "\n",
    "    dataset = CustomDataset(X, np.zeros((len(X),)), num_classes=model.num_classes)\n",
    "\n",
    "    X = None # Free X\n",
    "\n",
    "    # Make loaders\n",
    "    data_loader = DataLoader(dataset, batch_size=128, shuffle=False, num_workers=0) \n",
    "\n",
    "    predicted_labels = np.asarray([],dtype=\"int\")\n",
    "    \n",
    "    model.eval()\n",
    "    with torch.no_grad():\n",
    "\n",
    "        for i, (images, _) in enumerate(tqdm(data_loader)):\n",
    "\n",
    "            images = images.to(device)\n",
    "            # Forward pass\n",
    "            preds = model(images)\n",
    "            \n",
    "            predicted_labels = np.concatenate( (predicted_labels, toNumpy(torch.argmax(preds, dim=1))) )            \n",
    "            \n",
    "    predicted_labels = predicted_labels.reshape(-1,1)\n",
    "    ids = ids.reshape(-1,1)\n",
    "    \n",
    "    return pd.DataFrame( np.concatenate( (ids, predicted_labels), axis=1 ), columns = [\"id\",\"label\"] )"
   ]
  },
  {
   "cell_type": "code",
   "execution_count": 19,
   "id": "careful-cornell",
   "metadata": {},
   "outputs": [
    {
     "name": "stdout",
     "output_type": "stream",
     "text": [
      "Training images shape: (5000, 28, 28)\n",
      "IDs shape: (5000,)\n"
     ]
    },
    {
     "data": {
      "image/png": "[encoded data removed]",
      "text/plain": [
       "<Figure size 432x288 with 1 Axes>"
      ]
     },
     "metadata": {
      "needs_background": "light"
     },
     "output_type": "display_data"
    },
    {
     "data": {
      "image/png": "[encoded data removed]",
      "text/plain": [
       "<Figure size 432x288 with 1 Axes>"
      ]
     },
     "metadata": {
      "needs_background": "light"
     },
     "output_type": "display_data"
    },
    {
     "data": {
      "image/png": "[encoded data removed]",
      "text/plain": [
       "<Figure size 432x288 with 1 Axes>"
      ]
     },
     "metadata": {
      "needs_background": "light"
     },
     "output_type": "display_data"
    },
    {
     "data": {
      "image/png": "[encoded data removed]",
      "text/plain": [
       "<Figure size 432x288 with 1 Axes>"
      ]
     },
     "metadata": {
      "needs_background": "light"
     },
     "output_type": "display_data"
    },
    {
     "data": {
      "image/png": "[encoded data removed]",
      "text/plain": [
       "<Figure size 432x288 with 1 Axes>"
      ]
     },
     "metadata": {
      "needs_background": "light"
     },
     "output_type": "display_data"
    },
    {
     "name": "stderr",
     "output_type": "stream",
     "text": [
      "100%|██████████| 40/40 [00:04<00:00,  8.96it/s]\n"
     ]
    },
    {
     "data": {
      "text/html": [
       "<div>\n",
       "<style scoped>\n",
       "    .dataframe tbody tr th:only-of-type {\n",
       "        vertical-align: middle;\n",
       "    }\n",
       "\n",
       "    .dataframe tbody tr th {\n",
       "        vertical-align: top;\n",
       "    }\n",
       "\n",
       "    .dataframe thead th {\n",
       "        text-align: right;\n",
       "    }\n",
       "</style>\n",
       "<table border=\"1\" class=\"dataframe\">\n",
       "  <thead>\n",
       "    <tr style=\"text-align: right;\">\n",
       "      <th></th>\n",
       "      <th>id</th>\n",
       "      <th>label</th>\n",
       "    </tr>\n",
       "  </thead>\n",
       "  <tbody>\n",
       "    <tr>\n",
       "      <th>0</th>\n",
       "      <td>0</td>\n",
       "      <td>3</td>\n",
       "    </tr>\n",
       "    <tr>\n",
       "      <th>1</th>\n",
       "      <td>1</td>\n",
       "      <td>0</td>\n",
       "    </tr>\n",
       "    <tr>\n",
       "      <th>2</th>\n",
       "      <td>2</td>\n",
       "      <td>2</td>\n",
       "    </tr>\n",
       "    <tr>\n",
       "      <th>3</th>\n",
       "      <td>3</td>\n",
       "      <td>6</td>\n",
       "    </tr>\n",
       "    <tr>\n",
       "      <th>4</th>\n",
       "      <td>4</td>\n",
       "      <td>7</td>\n",
       "    </tr>\n",
       "    <tr>\n",
       "      <th>...</th>\n",
       "      <td>...</td>\n",
       "      <td>...</td>\n",
       "    </tr>\n",
       "    <tr>\n",
       "      <th>4995</th>\n",
       "      <td>4995</td>\n",
       "      <td>1</td>\n",
       "    </tr>\n",
       "    <tr>\n",
       "      <th>4996</th>\n",
       "      <td>4996</td>\n",
       "      <td>0</td>\n",
       "    </tr>\n",
       "    <tr>\n",
       "      <th>4997</th>\n",
       "      <td>4997</td>\n",
       "      <td>1</td>\n",
       "    </tr>\n",
       "    <tr>\n",
       "      <th>4998</th>\n",
       "      <td>4998</td>\n",
       "      <td>6</td>\n",
       "    </tr>\n",
       "    <tr>\n",
       "      <th>4999</th>\n",
       "      <td>4999</td>\n",
       "      <td>3</td>\n",
       "    </tr>\n",
       "  </tbody>\n",
       "</table>\n",
       "<p>5000 rows × 2 columns</p>\n",
       "</div>"
      ],
      "text/plain": [
       "        id  label\n",
       "0        0      3\n",
       "1        1      0\n",
       "2        2      2\n",
       "3        3      6\n",
       "4        4      7\n",
       "...    ...    ...\n",
       "4995  4995      1\n",
       "4996  4996      0\n",
       "4997  4997      1\n",
       "4998  4998      6\n",
       "4999  4999      3\n",
       "\n",
       "[5000 rows x 2 columns]"
      ]
     },
     "execution_count": 19,
     "metadata": {},
     "output_type": "execute_result"
    }
   ],
   "source": [
    "infer_raw(data_dir + \"test.csv\", trained_model)"
   ]
  },
  {
   "cell_type": "code",
   "execution_count": null,
   "id": "processed-flexibility",
   "metadata": {},
   "outputs": [],
   "source": []
  },
  {
   "cell_type": "code",
   "execution_count": 14,
   "id": "comparable-birth",
   "metadata": {},
   "outputs": [
    {
     "data": {
      "text/plain": [
       "2.0"
      ]
     },
     "execution_count": 14,
     "metadata": {},
     "output_type": "execute_result"
    }
   ],
   "source": [
    "test_labels = torch.tensor([0,2,1])\n",
    "test_preds = torch.tensor([[0.4,0.5,0.2],\n",
    "                          [0.2,0.4,0.5],\n",
    "                          [0.2,0.6,0.5]])\n",
    "\n",
    "count_correct(test_preds, test_labels)"
   ]
  }
 ],
 "metadata": {
  "kernelspec": {
   "display_name": "Python 3",
   "language": "python",
   "name": "python3"
  },
  "language_info": {
   "codemirror_mode": {
    "name": "ipython",
    "version": 3
   },
   "file_extension": ".py",
   "mimetype": "text/x-python",
   "name": "python",
   "nbconvert_exporter": "python",
   "pygments_lexer": "ipython3",
   "version": "3.6.8"
  }
 },
 "nbformat": 4,
 "nbformat_minor": 5
}
