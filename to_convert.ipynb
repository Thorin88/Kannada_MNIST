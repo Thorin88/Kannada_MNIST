{
 "cells": [
  {
   "cell_type": "markdown",
   "id": "welsh-hearts",
   "metadata": {},
   "source": [
    "# Imports"
   ]
  },
  {
   "cell_type": "code",
   "execution_count": 1,
   "id": "refined-oliver",
   "metadata": {
    "execution": {
     "iopub.execute_input": "2022-11-04T21:09:21.924824Z",
     "iopub.status.busy": "2022-11-04T21:09:21.923780Z",
     "iopub.status.idle": "2022-11-04T21:09:21.947012Z",
     "shell.execute_reply": "2022-11-04T21:09:21.946188Z",
     "shell.execute_reply.started": "2022-11-04T21:09:21.924741Z"
    }
   },
   "outputs": [],
   "source": [
    "import numpy as np\n",
    "import pandas as pd\n",
    "import matplotlib.pyplot as plt"
   ]
  },
  {
   "cell_type": "markdown",
   "id": "industrial-inquiry",
   "metadata": {},
   "source": [
    "# Loading Data"
   ]
  },
  {
   "cell_type": "code",
   "execution_count": 2,
   "id": "corresponding-plaza",
   "metadata": {
    "execution": {
     "iopub.execute_input": "2022-11-04T21:09:21.952931Z",
     "iopub.status.busy": "2022-11-04T21:09:21.952574Z",
     "iopub.status.idle": "2022-11-04T21:09:21.961419Z",
     "shell.execute_reply": "2022-11-04T21:09:21.960148Z",
     "shell.execute_reply.started": "2022-11-04T21:09:21.952897Z"
    }
   },
   "outputs": [],
   "source": [
    "def load_data(filename, labels_present=True):\n",
    "\n",
    "    data = pd.read_csv(filename)\n",
    "\n",
    "    if labels_present:\n",
    "        \n",
    "        X = data.iloc[:,1:].to_numpy().astype(\"float32\").reshape(-1,28,28)/255.0\n",
    "        print(\"Training images shape:\", X.shape)\n",
    "        \n",
    "        Y = data[\"label\"].to_numpy().astype(\"float32\").reshape(-1,)\n",
    "        print(\"Training labels shape:\", Y.shape)\n",
    "        \n",
    "        return X, Y\n",
    "    \n",
    "    else:\n",
    "        \n",
    "        X = data.iloc[:,1:].to_numpy().astype(\"float32\").reshape(-1,28,28)/255.0\n",
    "        print(\"Test images shape:\", X.shape)\n",
    "        \n",
    "        ids = data[\"id\"].to_numpy().astype(\"int\").reshape(-1,)\n",
    "        print(\"IDs shape:\", ids.shape)\n",
    "        \n",
    "        return X, ids"
   ]
  },
  {
   "cell_type": "code",
   "execution_count": 3,
   "id": "wired-sacrifice",
   "metadata": {
    "execution": {
     "iopub.execute_input": "2022-11-04T21:09:21.963326Z",
     "iopub.status.busy": "2022-11-04T21:09:21.962864Z",
     "iopub.status.idle": "2022-11-04T21:09:25.978401Z",
     "shell.execute_reply": "2022-11-04T21:09:25.977224Z",
     "shell.execute_reply.started": "2022-11-04T21:09:21.963284Z"
    }
   },
   "outputs": [
    {
     "name": "stdout",
     "output_type": "stream",
     "text": [
      "Training images shape: (60000, 28, 28)\n",
      "Training labels shape: (60000,)\n"
     ]
    }
   ],
   "source": [
    "# data_dir = \"../input/Kannada-MNIST/\"\n",
    "data_dir = \"./data/\"\n",
    "\n",
    "X, Y = load_data(data_dir + \"train.csv\")\n"
   ]
  },
  {
   "cell_type": "code",
   "execution_count": 4,
   "id": "gross-country",
   "metadata": {
    "execution": {
     "iopub.execute_input": "2022-11-04T21:09:25.982119Z",
     "iopub.status.busy": "2022-11-04T21:09:25.981642Z",
     "iopub.status.idle": "2022-11-04T21:09:26.179728Z",
     "shell.execute_reply": "2022-11-04T21:09:26.178872Z",
     "shell.execute_reply.started": "2022-11-04T21:09:25.982079Z"
    }
   },
   "outputs": [
    {
     "data": {
      "image/png": "[encoded data removed]",
      "text/plain": [
       "<Figure size 432x288 with 1 Axes>"
      ]
     },
     "metadata": {
      "needs_background": "light"
     },
     "output_type": "display_data"
    }
   ],
   "source": [
    "plt.imshow(X[5])\n",
    "plt.show()"
   ]
  },
  {
   "cell_type": "code",
   "execution_count": 5,
   "id": "sorted-courage",
   "metadata": {
    "execution": {
     "iopub.execute_input": "2022-11-04T21:09:26.181716Z",
     "iopub.status.busy": "2022-11-04T21:09:26.181342Z",
     "iopub.status.idle": "2022-11-04T21:09:28.081528Z",
     "shell.execute_reply": "2022-11-04T21:09:28.080564Z",
     "shell.execute_reply.started": "2022-11-04T21:09:26.181670Z"
    }
   },
   "outputs": [
    {
     "name": "stderr",
     "output_type": "stream",
     "text": [
      "c:\\users\\toby\\appdata\\local\\programs\\python\\python36\\lib\\site-packages\\tqdm\\auto.py:22: TqdmWarning: IProgress not found. Please update jupyter and ipywidgets. See https://ipywidgets.readthedocs.io/en/stable/user_install.html\n",
      "  from .autonotebook import tqdm as notebook_tqdm\n"
     ]
    }
   ],
   "source": [
    "import torch\n",
    "from torch import nn as nn\n",
    "from torch.utils.data import DataLoader\n",
    "from torch.utils.data import Dataset\n",
    "from torchvision import transforms\n",
    "\n",
    "from tqdm import tqdm"
   ]
  },
  {
   "cell_type": "markdown",
   "id": "understood-omaha",
   "metadata": {},
   "source": [
    "# Helper Functions\n"
   ]
  },
  {
   "cell_type": "code",
   "execution_count": 6,
   "id": "personal-congo",
   "metadata": {
    "execution": {
     "iopub.execute_input": "2022-11-04T21:09:28.083362Z",
     "iopub.status.busy": "2022-11-04T21:09:28.082795Z",
     "iopub.status.idle": "2022-11-04T21:09:28.091486Z",
     "shell.execute_reply": "2022-11-04T21:09:28.090572Z",
     "shell.execute_reply.started": "2022-11-04T21:09:28.083317Z"
    }
   },
   "outputs": [],
   "source": [
    " \n",
    "from torch.autograd import Variable\n",
    "\n",
    "def get_device():\n",
    "    if torch.cuda.is_available():\n",
    "        return torch.device(f'cuda')\n",
    "    else:\n",
    "        return torch.device(f'cpu')\n",
    "def cuda(v):\n",
    "    if torch.cuda.is_available():\n",
    "        return v.cuda()\n",
    "    return v\n",
    "def toTensor(v,dtype = torch.float,requires_grad = False):       \n",
    "    return cuda(Variable(torch.tensor(v)).type(dtype).requires_grad_(requires_grad))\n",
    "def toNumpy(v):\n",
    "    if torch.cuda.is_available():\n",
    "        return v.detach().cpu().numpy()\n",
    "    return v.detach().numpy()"
   ]
  },
  {
   "cell_type": "markdown",
   "id": "permanent-ridge",
   "metadata": {},
   "source": [
    "# Data Loaders"
   ]
  },
  {
   "cell_type": "code",
   "execution_count": 7,
   "id": "modern-vessel",
   "metadata": {
    "execution": {
     "iopub.execute_input": "2022-11-04T21:09:28.093569Z",
     "iopub.status.busy": "2022-11-04T21:09:28.092979Z",
     "iopub.status.idle": "2022-11-04T21:09:28.119437Z",
     "shell.execute_reply": "2022-11-04T21:09:28.118548Z",
     "shell.execute_reply.started": "2022-11-04T21:09:28.093533Z"
    }
   },
   "outputs": [],
   "source": [
    "import random\n",
    "import sys\n",
    "\n",
    "# A dataset class that can be used by PyTorch data loaders\n",
    "class CustomDataset(Dataset):\n",
    "    \n",
    "    def __init__(self, X, Y, num_classes=1, aug_transform=None):\n",
    "\n",
    "        self.X = X\n",
    "        # Convert labels to a tensor for training\n",
    "        # self.Y = nn.functional.one_hot(toTensor(Y).long(), num_classes=num_classes)\n",
    "        self.Y = toTensor(Y).long()\n",
    "        \n",
    "        X, Y = None, None\n",
    "\n",
    "        self.xi_preprocessing_transform = transforms.Compose([\n",
    "                                            transforms.ToTensor(),\n",
    "                                          ])\n",
    "        self.yi_preprocessing_transform = None\n",
    "        self.aug_transform = aug_transform\n",
    "        if self.aug_transform is not None:\n",
    "            print(\"[WARNING]: Dataset loaded with augmentations set, make sure this is training only\")\n",
    "        \n",
    "        self.nitems = self.X.shape[0]\n",
    "        \n",
    "        self.xi = None\n",
    "        self.yi = None\n",
    "        \n",
    "    def __getitem__(self, index):\n",
    "\n",
    "        X, Y = None, None # Avoiding accidently using X and Y instead of self.X\n",
    "\n",
    "        xi = self.X[index]\n",
    "        yi = self.Y[index]\n",
    "        \n",
    "        xi_final = xi\n",
    "        yi_final = yi\n",
    "        \n",
    "        seed = random.randrange(sys.maxsize) #get a random seed so that we can reproducibly do the transformations\n",
    "\n",
    "        # First augment the data, if we have some augmentations to apply\n",
    "        if self.aug_transform is not None:\n",
    "            random.seed(seed)\n",
    "\n",
    "            trans_dict = self.aug_transform(image=xi)\n",
    "            # Apply to the images before doing standard transforms\n",
    "            xi = trans_dict[\"image\"]\n",
    "\n",
    "        # Convert examples to a tensor\n",
    "        if self.xi_preprocessing_transform is not None:\n",
    "            random.seed(seed) # apply this seed to img transforms\n",
    "            xi_final = self.xi_preprocessing_transform(xi)\n",
    "\n",
    "        return xi_final,  yi_final\n",
    "    \n",
    "    def __len__(self):\n",
    "        return self.nitems"
   ]
  },
  {
   "cell_type": "markdown",
   "id": "helpful-error",
   "metadata": {},
   "source": [
    "# Model Zoo"
   ]
  },
  {
   "cell_type": "markdown",
   "id": "synthetic-advancement",
   "metadata": {},
   "source": [
    "## BasicCNN"
   ]
  },
  {
   "cell_type": "code",
   "execution_count": 8,
   "id": "tropical-uncertainty",
   "metadata": {
    "execution": {
     "iopub.execute_input": "2022-11-04T21:09:28.122893Z",
     "iopub.status.busy": "2022-11-04T21:09:28.122600Z",
     "iopub.status.idle": "2022-11-04T21:09:28.134328Z",
     "shell.execute_reply": "2022-11-04T21:09:28.133344Z",
     "shell.execute_reply.started": "2022-11-04T21:09:28.122869Z"
    }
   },
   "outputs": [],
   "source": [
    "\n",
    "class ConvNet(nn.Module):\n",
    "    def __init__(self, in_channels=1, num_classes=10):\n",
    "        super(ConvNet, self).__init__()\n",
    "\n",
    "        self.num_classes = num_classes\n",
    "\n",
    "        self.name = \"ConvNet\"\n",
    "\n",
    "        layer1_kernel_num = 16\n",
    "        self.layer1 = nn.Sequential(\n",
    "\n",
    "            # Kernel details\n",
    "            nn.Conv2d(in_channels, layer1_kernel_num, kernel_size=5, stride=1, padding=2),\n",
    "            nn.BatchNorm2d(layer1_kernel_num),\n",
    "            nn.ReLU(),\n",
    "            nn.MaxPool2d(kernel_size=2, stride=2))\n",
    "\n",
    "        layer2_kernel_num = 32\n",
    "        self.layer2 = nn.Sequential(\n",
    "            nn.Conv2d(layer1_kernel_num, layer2_kernel_num, kernel_size=5, stride=1, padding=2),\n",
    "            nn.BatchNorm2d(layer2_kernel_num),\n",
    "            nn.ReLU(),\n",
    "            nn.MaxPool2d(kernel_size=2, stride=2))\n",
    "\n",
    "        self.fc1 = nn.Linear(7*7*layer2_kernel_num, num_classes)\n",
    "\n",
    "        self.output_layer = nn.Softmax(dim=1)\n",
    "\n",
    "        print(\"Model initialised.\")\n",
    "\n",
    "    def forward(self, x):\n",
    "\n",
    "        out = self.layer1(x)\n",
    "\n",
    "        out = self.layer2(out)\n",
    "\n",
    "        # Flatten output of Conv part\n",
    "        out = out.reshape(out.size(0), -1)\n",
    "\n",
    "        out = self.fc1(out)\n",
    "        out = self.output_layer(out)\n",
    "        return out"
   ]
  },
  {
   "cell_type": "markdown",
   "id": "surrounded-curtis",
   "metadata": {},
   "source": [
    "## LargerCNN"
   ]
  },
  {
   "cell_type": "code",
   "execution_count": 9,
   "id": "allied-compromise",
   "metadata": {
    "execution": {
     "iopub.execute_input": "2022-11-04T21:09:28.137979Z",
     "iopub.status.busy": "2022-11-04T21:09:28.137715Z",
     "iopub.status.idle": "2022-11-04T21:09:28.152085Z",
     "shell.execute_reply": "2022-11-04T21:09:28.151171Z",
     "shell.execute_reply.started": "2022-11-04T21:09:28.137947Z"
    }
   },
   "outputs": [],
   "source": [
    "class ConvNetLarge(nn.Module):\n",
    "    def __init__(self, in_channels=1, num_classes=10):\n",
    "        super(ConvNetLarge, self).__init__()\n",
    "\n",
    "        self.num_classes = num_classes\n",
    "\n",
    "        self.name = \"ConvNetLarge\"\n",
    "\n",
    "        layer1_kernel_num = 64\n",
    "        self.layer1 = nn.Sequential(\n",
    "            nn.Conv2d(in_channels, layer1_kernel_num, kernel_size=3, stride=1, padding=1),\n",
    "            nn.BatchNorm2d(layer1_kernel_num),\n",
    "            nn.LeakyReLU(negative_slope=0.1),\n",
    "            # nn.MaxPool2d(kernel_size=2, stride=2)\n",
    "            )\n",
    "\n",
    "        layer2_kernel_num = 64\n",
    "        self.layer2 = nn.Sequential(\n",
    "            nn.Conv2d(layer1_kernel_num, layer2_kernel_num, kernel_size=3, stride=1, padding=1),\n",
    "            nn.BatchNorm2d(layer2_kernel_num),\n",
    "            nn.LeakyReLU(negative_slope=0.1),\n",
    "            nn.MaxPool2d(kernel_size=2, stride=2))\n",
    "        \n",
    "        layer3_kernel_num = 128\n",
    "        self.layer3 = nn.Sequential(\n",
    "            nn.Conv2d(layer2_kernel_num, layer3_kernel_num, kernel_size=3, stride=1, padding=1),\n",
    "            nn.BatchNorm2d(layer3_kernel_num),\n",
    "            nn.LeakyReLU(negative_slope=0.1),\n",
    "            nn.MaxPool2d(kernel_size=2, stride=2)\n",
    "            )\n",
    "        \n",
    "        layer4_kernel_num = 128\n",
    "        self.layer4 = nn.Sequential(\n",
    "            nn.Conv2d(layer3_kernel_num, layer4_kernel_num, kernel_size=3, stride=1, padding=1),\n",
    "            nn.BatchNorm2d(layer4_kernel_num),\n",
    "            nn.LeakyReLU(negative_slope=0.1),\n",
    "            nn.MaxPool2d(kernel_size=2, stride=2)\n",
    "            )\n",
    "\n",
    "#         self.fc1 = nn.Sequential(\n",
    "#             nn.Linear(1152, 256),\n",
    "#             nn.Dropout(p=0.2)\n",
    "#             )\n",
    "        \n",
    "        self.fc1 = nn.Linear(1152, num_classes)\n",
    "\n",
    "        self.output_layer = nn.Softmax(dim=1)\n",
    "\n",
    "        print(\"Model initialised.\")\n",
    "\n",
    "    def forward(self, x):\n",
    "\n",
    "        out = self.layer1(x)\n",
    "\n",
    "        out = self.layer2(out)\n",
    "        \n",
    "        out = self.layer3(out)\n",
    "        \n",
    "        out = self.layer4(out)\n",
    "\n",
    "        # Flatten output of Conv part\n",
    "        out = out.reshape(out.size(0), -1)\n",
    "\n",
    "        out = self.fc1(out)\n",
    "        out = self.output_layer(out)\n",
    "        return out"
   ]
  },
  {
   "cell_type": "code",
   "execution_count": 10,
   "id": "sufficient-education",
   "metadata": {
    "execution": {
     "iopub.execute_input": "2022-11-04T21:09:28.155432Z",
     "iopub.status.busy": "2022-11-04T21:09:28.155153Z",
     "iopub.status.idle": "2022-11-04T21:09:28.166454Z",
     "shell.execute_reply": "2022-11-04T21:09:28.165589Z",
     "shell.execute_reply.started": "2022-11-04T21:09:28.155402Z"
    }
   },
   "outputs": [],
   "source": [
    "# Code which goes through the results collected during training and plots them.\n",
    "def plotResults(trainingResults):\n",
    "\n",
    "    metrics_available = trainingResults[list(trainingResults.keys())[0]].keys()\n",
    "\n",
    "    for i, metric in enumerate(metrics_available):\n",
    "        \n",
    "        plt.figure(figsize=(10,5))\n",
    "\n",
    "        plt.title(metric + \" over the course of training\")\n",
    "        plt.xlabel(\"Epoch\")\n",
    "        plt.ylabel(metric)\n",
    "        # Values were recorded for train and validation results\n",
    "        for phase in trainingResults.keys():\n",
    "\n",
    "            epochs = len(trainingResults[phase][metric])\n",
    "            epochs_range = range(1,epochs+1)\n",
    "\n",
    "            plt.plot(epochs_range,trainingResults[phase][metric],label=phase)\n",
    "\n",
    "        plt.legend()\n",
    "        plt.show()"
   ]
  },
  {
   "cell_type": "code",
   "execution_count": 11,
   "id": "proved-davis",
   "metadata": {
    "execution": {
     "iopub.execute_input": "2022-11-04T21:09:28.168367Z",
     "iopub.status.busy": "2022-11-04T21:09:28.168000Z",
     "iopub.status.idle": "2022-11-04T21:09:28.180699Z",
     "shell.execute_reply": "2022-11-04T21:09:28.179796Z",
     "shell.execute_reply.started": "2022-11-04T21:09:28.168305Z"
    }
   },
   "outputs": [],
   "source": [
    "def count_correct(preds, labels, debug=False):\n",
    "\n",
    "    correct_count = 0.0\n",
    "    \n",
    "    predicted_labels = torch.argmax(preds, dim=1)\n",
    "    correct_count += (predicted_labels == labels).sum().item()\n",
    "    \n",
    "    if debug:\n",
    "        print(\"Predicted:\",toNumpy(predicted_labels))\n",
    "        print(\"Labels:\",toNumpy(labels))\n",
    "        print(\"Correct Count:\",correct_count)\n",
    "    \n",
    "    return correct_count"
   ]
  },
  {
   "cell_type": "code",
   "execution_count": 12,
   "id": "private-communication",
   "metadata": {
    "execution": {
     "iopub.execute_input": "2022-11-04T21:09:28.184198Z",
     "iopub.status.busy": "2022-11-04T21:09:28.183911Z",
     "iopub.status.idle": "2022-11-04T21:09:29.614779Z",
     "shell.execute_reply": "2022-11-04T21:09:29.613819Z",
     "shell.execute_reply.started": "2022-11-04T21:09:28.184174Z"
    }
   },
   "outputs": [],
   "source": [
    "# import albumentations as AUGS\n",
    "# from sklearn import metrics\n",
    "\n",
    "def train(model_class,model_init_params,Xtr,Ytr,valSplitSize=0.2,batch_size=32,num_epochs=20,lr=1e-3,verbose=0):\n",
    "    \n",
    "    X, Y = None, None\n",
    "    \n",
    "    trainSize = int((1.0 - valSplitSize)*len(Xtr))\n",
    "    print(\"Train set size:\",trainSize)\n",
    "    # Validation set\n",
    "    Xv, Yv = Xtr[trainSize:], Ytr[trainSize:]\n",
    "    # Train set\n",
    "    Xtr, Ytr = Xtr[:trainSize], Ytr[:trainSize]\n",
    "\n",
    "    print(\"Training Dataset sizes:\",\"[\", Xtr.shape, Ytr.shape,\"]\")\n",
    "    print(\"Validation Dataset sizes:\",\"[\", Xv.shape, Yv.shape,\"]\")\n",
    "    \n",
    "    device = get_device()\n",
    "    \n",
    "    model = model_class(**model_init_params).to(device)\n",
    "    print(\"Model Loaded:\",model.name)\n",
    "    \n",
    "#     aug_transform = AUGS.Compose([\n",
    "#       # Vertical flipping\n",
    "#       # AUGS.VerticalFlip(),\n",
    "#       # AUGS.HueSaturationValue(p=0.2),       \n",
    "#       # AUGS.RandomBrightness(limit=0.2)\n",
    "#       AUGS.Affine(translate_percent=(0.0, 0.2), p=0.2),\n",
    "#       AUGS.Blur(blur_limit=3, always_apply=False, p=0.3),\n",
    "#       AUGS.ColorJitter(p=0.7),\n",
    "#       ])\n",
    "    \n",
    "    aug_transform=None\n",
    "    \n",
    "    # Make datasets\n",
    "    train_dataset = CustomDataset(Xtr, Ytr, num_classes=model.num_classes, aug_transform=aug_transform)\n",
    "    val_dataset = CustomDataset(Xv, Yv, num_classes=model.num_classes)\n",
    "    \n",
    "    # Make loaders\n",
    "    train_loader = DataLoader(train_dataset, batch_size=batch_size, \n",
    "                              shuffle=True, num_workers=0) \n",
    "    \n",
    "    val_loader = DataLoader(val_dataset, batch_size=batch_size, \n",
    "                              shuffle=True, num_workers=0) \n",
    "    \n",
    "    criterion = nn.CrossEntropyLoss()\n",
    "    print(\"Loss Function:\",criterion)\n",
    "    \n",
    "    # Uses our learning rate parameter\n",
    "    optimizer = torch.optim.Adam(model.parameters(), lr=lr)\n",
    "    \n",
    "    results = dict()\n",
    "    for phase in [\"training\",\"validation\"]:\n",
    "        results[phase] = {\"loss\": [], \"accuracy\": []}\n",
    "    \n",
    "    lowestValidationAcc = np.NINF\n",
    "    \n",
    "    # Train the model\n",
    "    for epoch in range(num_epochs):\n",
    "        \n",
    "        results_this_epoch = dict()\n",
    "        for phase in [\"training\",\"validation\"]:\n",
    "            results_this_epoch[phase] = {\"loss\": [], \"accuracy\": []}\n",
    "        \n",
    "        # Needed since we switch to .eval() during the validation stage\n",
    "        model.train()\n",
    "        for i, (images, labels) in enumerate(tqdm(train_loader)):\n",
    "\n",
    "            images = images.to(device)\n",
    "            labels = labels.to(device)\n",
    "            # Forward pass\n",
    "            preds = model(images)\n",
    "            \n",
    "            loss = criterion(preds, labels)\n",
    "            # Backward and optimize\n",
    "            optimizer.zero_grad()\n",
    "            loss.backward()\n",
    "            optimizer.step()\n",
    "            \n",
    "            results_this_epoch[\"training\"][\"loss\"].append(loss.item())\n",
    "            results_this_epoch[\"training\"][\"accuracy\"].append(count_correct(preds, labels))\n",
    "            \n",
    "        # Validation\n",
    "        \n",
    "        # Making sure we aren't using dropouts and also aren't training the model\n",
    "        model.eval()\n",
    "        with torch.no_grad():\n",
    "            \n",
    "            for i, (images, labels) in enumerate(tqdm(val_loader)):\n",
    "\n",
    "                images = images.to(device)\n",
    "                labels = labels.to(device)\n",
    "                # Forward pass\n",
    "                preds = model(images)\n",
    "\n",
    "                loss = criterion(preds, labels)\n",
    "                # No update step\n",
    "\n",
    "                results_this_epoch[\"validation\"][\"loss\"].append(loss.item())\n",
    "                results_this_epoch[\"validation\"][\"accuracy\"].append(count_correct(preds, labels))\n",
    "            \n",
    "        print('Epoch [{}/{}]'.format(epoch+1, num_epochs))\n",
    "\n",
    "        for phase in results_this_epoch.keys():\n",
    "            for metric in results_this_epoch[phase].keys():\n",
    "                if metric == \"loss\":\n",
    "                    results[phase][metric].append(np.mean(results_this_epoch[phase][metric]))\n",
    "                elif metric == \"accuracy\":\n",
    "                    if phase == \"training\":\n",
    "                        total = len(Ytr)\n",
    "                    elif phase == \"validation\":\n",
    "                        total = len(Yv)\n",
    "                    results[phase][metric].append(np.sum(results_this_epoch[phase][metric])/total)\n",
    "                    \n",
    "                if (verbose > 0):\n",
    "                    print('[{}] {}: {:.4f}'.format(phase, metric, results[phase][metric][-1]))\n",
    "                \n",
    "        # Early stopping, preventing overfitting when using too many epochs        \n",
    "        if results[\"validation\"][\"accuracy\"][-1] > lowestValidationAcc:\n",
    "            lowestValidationAcc = results[\"validation\"][\"accuracy\"][-1]\n",
    "            if verbose > 0:\n",
    "                print(\"  **\")\n",
    "            state = {'epoch': epoch + 1,\n",
    "                     'model_dict': model.state_dict(),\n",
    "                     'params': model_init_params,\n",
    "                     'best_loss_on_test': lowestValidationAcc}\n",
    "\n",
    "            modelLocation = model.name + \"_best_model.pth\"\n",
    "            torch.save(state, modelLocation) # saves to current directory\n",
    "            if verbose > 0:\n",
    "                  print(\"Model information (including weights) saved to:\",modelLocation)\n",
    "                    \n",
    "    plotResults(results)\n",
    "    \n",
    "    # Load up saved model\n",
    "    model = model_class(**model_init_params).to(device)\n",
    "    model.load_state_dict(torch.load(modelLocation,map_location=torch.device(device))[\"model_dict\"])\n",
    "    model.eval()\n",
    "    \n",
    "    return model\n"
   ]
  },
  {
   "cell_type": "code",
   "execution_count": 13,
   "id": "precise-warrant",
   "metadata": {
    "execution": {
     "iopub.execute_input": "2022-11-04T21:09:29.619543Z",
     "iopub.status.busy": "2022-11-04T21:09:29.618579Z",
     "iopub.status.idle": "2022-11-04T21:16:42.589680Z",
     "shell.execute_reply": "2022-11-04T21:16:42.588518Z",
     "shell.execute_reply.started": "2022-11-04T21:09:29.619502Z"
    }
   },
   "outputs": [
    {
     "name": "stdout",
     "output_type": "stream",
     "text": [
      "Train set size: 80\n",
      "Training Dataset sizes: [ (80, 28, 28) (80,) ]\n",
      "Validation Dataset sizes: [ (20, 28, 28) (20,) ]\n",
      "Model initialised.\n",
      "Model Loaded: ConvNet\n",
      "Loss Function: CrossEntropyLoss()\n"
     ]
    },
    {
     "name": "stderr",
     "output_type": "stream",
     "text": [
      "100%|██████████| 1/1 [00:00<00:00,  3.99it/s]\n",
      "100%|██████████| 1/1 [00:00<00:00, 32.26it/s]\n"
     ]
    },
    {
     "name": "stdout",
     "output_type": "stream",
     "text": [
      "Epoch [1/10]\n",
      "[training] loss: 2.3088\n",
      "[training] accuracy: 0.1000\n",
      "[validation] loss: 2.2996\n",
      "[validation] accuracy: 0.1000\n",
      "  **\n",
      "Model information (including weights) saved to: ConvNet_best_model.pth\n"
     ]
    },
    {
     "name": "stderr",
     "output_type": "stream",
     "text": [
      "100%|██████████| 1/1 [00:00<00:00,  3.88it/s]\n",
      "100%|██████████| 1/1 [00:00<00:00, 28.13it/s]\n"
     ]
    },
    {
     "name": "stdout",
     "output_type": "stream",
     "text": [
      "Epoch [2/10]\n",
      "[training] loss: 2.2227\n",
      "[training] accuracy: 0.3375\n",
      "[validation] loss: 2.2957\n",
      "[validation] accuracy: 0.3500\n",
      "  **\n",
      "Model information (including weights) saved to: ConvNet_best_model.pth\n"
     ]
    },
    {
     "name": "stderr",
     "output_type": "stream",
     "text": [
      "100%|██████████| 1/1 [00:00<00:00,  4.06it/s]\n",
      "100%|██████████| 1/1 [00:00<00:00, 28.57it/s]\n"
     ]
    },
    {
     "name": "stdout",
     "output_type": "stream",
     "text": [
      "Epoch [3/10]\n",
      "[training] loss: 2.1270\n",
      "[training] accuracy: 0.5625\n",
      "[validation] loss: 2.2910\n",
      "[validation] accuracy: 0.6000\n",
      "  **\n",
      "Model information (including weights) saved to: ConvNet_best_model.pth\n"
     ]
    },
    {
     "name": "stderr",
     "output_type": "stream",
     "text": [
      "100%|██████████| 1/1 [00:00<00:00,  3.44it/s]\n",
      "100%|██████████| 1/1 [00:00<00:00, 25.15it/s]\n"
     ]
    },
    {
     "name": "stdout",
     "output_type": "stream",
     "text": [
      "Epoch [4/10]\n",
      "[training] loss: 2.0276\n",
      "[training] accuracy: 0.6500\n",
      "[validation] loss: 2.2860\n",
      "[validation] accuracy: 0.6500\n",
      "  **\n",
      "Model information (including weights) saved to: ConvNet_best_model.pth\n"
     ]
    },
    {
     "name": "stderr",
     "output_type": "stream",
     "text": [
      "100%|██████████| 1/1 [00:00<00:00,  2.70it/s]\n",
      "100%|██████████| 1/1 [00:00<00:00, 21.87it/s]\n"
     ]
    },
    {
     "name": "stdout",
     "output_type": "stream",
     "text": [
      "Epoch [5/10]\n",
      "[training] loss: 1.9285\n",
      "[training] accuracy: 0.7375\n",
      "[validation] loss: 2.2804\n",
      "[validation] accuracy: 0.5500\n"
     ]
    },
    {
     "name": "stderr",
     "output_type": "stream",
     "text": [
      "100%|██████████| 1/1 [00:00<00:00,  3.72it/s]\n",
      "100%|██████████| 1/1 [00:00<00:00, 35.72it/s]\n"
     ]
    },
    {
     "name": "stdout",
     "output_type": "stream",
     "text": [
      "Epoch [6/10]\n",
      "[training] loss: 1.8372\n",
      "[training] accuracy: 0.8000\n",
      "[validation] loss: 2.2739\n",
      "[validation] accuracy: 0.6000\n"
     ]
    },
    {
     "name": "stderr",
     "output_type": "stream",
     "text": [
      "100%|██████████| 1/1 [00:00<00:00,  5.33it/s]\n",
      "100%|██████████| 1/1 [00:00<00:00, 32.26it/s]\n"
     ]
    },
    {
     "name": "stdout",
     "output_type": "stream",
     "text": [
      "Epoch [7/10]\n",
      "[training] loss: 1.7622\n",
      "[training] accuracy: 0.8250\n",
      "[validation] loss: 2.2666\n",
      "[validation] accuracy: 0.6000\n"
     ]
    },
    {
     "name": "stderr",
     "output_type": "stream",
     "text": [
      "100%|██████████| 1/1 [00:00<00:00,  4.00it/s]\n",
      "100%|██████████| 1/1 [00:00<00:00, 33.34it/s]\n"
     ]
    },
    {
     "name": "stdout",
     "output_type": "stream",
     "text": [
      "Epoch [8/10]\n",
      "[training] loss: 1.7018\n",
      "[training] accuracy: 0.8875\n",
      "[validation] loss: 2.2583\n",
      "[validation] accuracy: 0.7000\n",
      "  **\n",
      "Model information (including weights) saved to: ConvNet_best_model.pth\n"
     ]
    },
    {
     "name": "stderr",
     "output_type": "stream",
     "text": [
      "100%|██████████| 1/1 [00:00<00:00,  3.54it/s]\n",
      "100%|██████████| 1/1 [00:00<00:00, 34.48it/s]\n"
     ]
    },
    {
     "name": "stdout",
     "output_type": "stream",
     "text": [
      "Epoch [9/10]\n",
      "[training] loss: 1.6449\n",
      "[training] accuracy: 0.8875\n",
      "[validation] loss: 2.2487\n",
      "[validation] accuracy: 0.8000\n",
      "  **\n",
      "Model information (including weights) saved to: ConvNet_best_model.pth\n"
     ]
    },
    {
     "name": "stderr",
     "output_type": "stream",
     "text": [
      "100%|██████████| 1/1 [00:00<00:00,  3.12it/s]\n",
      "100%|██████████| 1/1 [00:00<00:00, 34.49it/s]\n"
     ]
    },
    {
     "name": "stdout",
     "output_type": "stream",
     "text": [
      "Epoch [10/10]\n",
      "[training] loss: 1.6056\n",
      "[training] accuracy: 0.9125\n",
      "[validation] loss: 2.2370\n",
      "[validation] accuracy: 0.8000\n"
     ]
    },
    {
     "data": {
      "image/png": "[encoded data removed]",
      "text/plain": [
       "<Figure size 720x360 with 1 Axes>"
      ]
     },
     "metadata": {
      "needs_background": "light"
     },
     "output_type": "display_data"
    },
    {
     "data": {
      "image/png": "[encoded data removed]",
      "text/plain": [
       "<Figure size 720x360 with 1 Axes>"
      ]
     },
     "metadata": {
      "needs_background": "light"
     },
     "output_type": "display_data"
    },
    {
     "name": "stdout",
     "output_type": "stream",
     "text": [
      "Model initialised.\n"
     ]
    }
   ],
   "source": [
    "# BasicCNN\n",
    "trained_model = train(ConvNet,{},X[:100],Y[:100],verbose=1,num_epochs=10, batch_size=256, lr=1e-3, valSplitSize=0.2)\n",
    "# LargeCNN\n",
    "# trained_model = train(ConvNetLarge,{},X,Y,verbose=1,num_epochs=15, batch_size=256, lr=1e-3, valSplitSize=0.2)"
   ]
  },
  {
   "cell_type": "code",
   "execution_count": 14,
   "id": "coupled-manor",
   "metadata": {
    "execution": {
     "iopub.execute_input": "2022-11-04T21:16:42.591742Z",
     "iopub.status.busy": "2022-11-04T21:16:42.591348Z",
     "iopub.status.idle": "2022-11-04T21:16:42.600431Z",
     "shell.execute_reply": "2022-11-04T21:16:42.599343Z",
     "shell.execute_reply.started": "2022-11-04T21:16:42.591704Z"
    }
   },
   "outputs": [],
   "source": [
    "def infer_raw(filename, model):\n",
    "    \n",
    "    device = get_device()\n",
    "\n",
    "    X, ids = load_data(filename, labels_present=False)\n",
    "\n",
    "    dataset = CustomDataset(X, np.zeros((len(X),)), num_classes=model.num_classes)\n",
    "\n",
    "    X = None # Free X\n",
    "\n",
    "    # Make loaders\n",
    "    data_loader = DataLoader(dataset, batch_size=128, shuffle=False, num_workers=0) \n",
    "\n",
    "    predicted_labels = np.asarray([],dtype=\"int\")\n",
    "    \n",
    "    model.eval()\n",
    "    with torch.no_grad():\n",
    "\n",
    "        for i, (images, _) in enumerate(tqdm(data_loader)):\n",
    "\n",
    "            images = images.to(device)\n",
    "            # Forward pass\n",
    "            preds = model(images)\n",
    "            \n",
    "            predicted_labels = np.concatenate( (predicted_labels, toNumpy(torch.argmax(preds, dim=1))) )            \n",
    "            \n",
    "    predicted_labels = predicted_labels.reshape(-1,1)\n",
    "    ids = ids.reshape(-1,1)\n",
    "    \n",
    "    return pd.DataFrame( np.concatenate( (ids, predicted_labels), axis=1 ), columns = [\"id\",\"label\"] )"
   ]
  },
  {
   "cell_type": "code",
   "execution_count": 15,
   "id": "pretty-salmon",
   "metadata": {
    "execution": {
     "iopub.execute_input": "2022-11-04T21:16:42.602872Z",
     "iopub.status.busy": "2022-11-04T21:16:42.602099Z",
     "iopub.status.idle": "2022-11-04T21:16:43.301004Z",
     "shell.execute_reply": "2022-11-04T21:16:43.299899Z",
     "shell.execute_reply.started": "2022-11-04T21:16:42.602837Z"
    }
   },
   "outputs": [
    {
     "name": "stdout",
     "output_type": "stream",
     "text": [
      "Test images shape: (5000, 28, 28)\n",
      "IDs shape: (5000,)\n"
     ]
    },
    {
     "name": "stderr",
     "output_type": "stream",
     "text": [
      "100%|██████████| 40/40 [00:04<00:00,  9.84it/s]\n"
     ]
    }
   ],
   "source": [
    "results = infer_raw(data_dir + \"test.csv\", trained_model)\n",
    "results.to_csv(\"./submission.csv\", index=False)"
   ]
  },
  {
   "cell_type": "code",
   "execution_count": null,
   "id": "crazy-vegetarian",
   "metadata": {},
   "outputs": [],
   "source": []
  }
 ],
 "metadata": {
  "kernelspec": {
   "display_name": "Python 3",
   "language": "python",
   "name": "python3"
  },
  "language_info": {
   "codemirror_mode": {
    "name": "ipython",
    "version": 3
   },
   "file_extension": ".py",
   "mimetype": "text/x-python",
   "name": "python",
   "nbconvert_exporter": "python",
   "pygments_lexer": "ipython3",
   "version": "3.6.8"
  }
 },
 "nbformat": 4,
 "nbformat_minor": 5
}
